{
 "cells": [
  {
   "cell_type": "markdown",
   "metadata": {},
   "source": [
    "## 인기제품 추천"
   ]
  },
  {
   "cell_type": "code",
   "execution_count": null,
   "metadata": {},
   "outputs": [],
   "source": [
    "import pandas as pd\n",
    "\n",
    "use_cols = ['user_id', 'age', 'sex', 'occupation', 'zip_code']\n",
    "\n",
    "# 사용자 정보\n",
    "users = pd.read_csv('./u.user', sep = '|', names = use_cols, encoding = 'latin-1')\n",
    "users = users.set_index('user_id')\n",
    "users.head()"
   ]
  },
  {
   "cell_type": "code",
   "execution_count": null,
   "metadata": {},
   "outputs": [],
   "source": [
    "item_cols = ['movie_id', 'title', 'release date', 'video release date', 'IMDB URL', 'unknown',\n",
    "            'Action', 'Adventure', 'Animation', 'Children\\'s', 'Comedy', 'Crime', 'Documentary',\n",
    "             'Drama', 'Fantasy', 'Film-Noir', 'Horror', 'Musical', 'Mystery',\n",
    "            'Romance', 'Sci-Fi', 'Thriller', 'War', 'Western']\n",
    "\n",
    "# 영화 정보와 영화 평점 정보\n",
    "movies = pd.read_csv('./u.item', sep='|', names=item_cols, encoding='latin-1')\n",
    "movies = movies.set_index('movie_id')\n",
    "movies.head()"
   ]
  },
  {
   "cell_type": "code",
   "execution_count": null,
   "metadata": {},
   "outputs": [],
   "source": [
    "# 사용자의 영화 평점 정보\n",
    "rating_cols = ['user_id', 'movie_id', 'rating', 'timestamp']\n",
    "\n",
    "ratings = pd.read_csv('./u.data', sep='\\t', names = rating_cols, encoding = 'latin-1')\n",
    "ratings = ratings.set_index('user_id')\n",
    "ratings.head()"
   ]
  },
  {
   "cell_type": "code",
   "execution_count": null,
   "metadata": {},
   "outputs": [],
   "source": [
    "# Best-Seller\n",
    "def recom_movie1(n_items):\n",
    "    movie_sort = movie_mean.sort_values(ascending=False)[:n_items]\n",
    "    recom_movies = movies.iloc[movie_sort.index, :]\n",
    "    recommendations = recom_movies['title']\n",
    "    \n",
    "    return recommendations\n",
    "\n",
    "def recom_movie2(n_items):\n",
    "    return movies.iloc[movie_mean.sort_values[ascending=False][:n_items].index]['title']\n",
    "\n",
    "movie_mean = ratings.groupby(['movie_id'])['rating'].mean()\n",
    "recom_movie1(5)"
   ]
  },
  {
   "cell_type": "code",
   "execution_count": null,
   "metadata": {},
   "outputs": [],
   "source": [
    "import numpy as np\n",
    "\n",
    "def RMSE(y_true, y_pred):\n",
    "    return np.sqrt(np.mean((np.array(y_true) - np.array(y_pred)) ** 2))\n",
    "\n",
    "rmse = []\n",
    "for user in set(ratings.index):\n",
    "    y_true = ratings.loc[user]['rating']\n",
    "    y_pred = movie_mean[ratings.loc[user]['movie_id']]\n",
    "    acc = RMSE(y_true, y_pred)\n",
    "    rmse.append(acc)\n",
    "    \n",
    "print(np.mean(rmse))"
   ]
  },
  {
   "cell_type": "markdown",
   "metadata": {},
   "source": [
    "## 사용자 집단별 추천\n",
    "+ users, movies, ratings\n",
    "+ merged_matrix, rating_matrix"
   ]
  },
  {
   "cell_type": "code",
   "execution_count": null,
   "metadata": {},
   "outputs": [],
   "source": [
    "import pandas as pd\n",
    "\n",
    "# 필요 데이터를 로드한다.\n",
    "use_cols = ['user_id', 'age', 'sex', 'occupation', 'zip_code']\n",
    "users = pd.read_csv('./u.user', sep = '|', names = use_cols, encoding = 'latin-1')\n",
    "item_cols = ['movie_id', 'title', 'release date', 'video release date', 'IMDB URL', 'unknown',\n",
    "            'Action', 'Adventure', 'Animation', 'Children\\'s', 'Comedy', 'Crime', 'Documentary',\n",
    "             'Drama', 'Fantasy', 'Film-Noir', 'Horror', 'Musical', 'Mystery',\n",
    "            'Romance', 'Sci-Fi', 'Thriller', 'War', 'Western']\n",
    "movies = pd.read_csv('./u.item', sep='|', names=item_cols, encoding='latin-1')\n",
    "rating_cols = ['user_id', 'movie_id', 'rating', 'timestamp']\n",
    "ratings = pd.read_csv('./u.data', sep='\\t', names = rating_cols, encoding = 'latin-1')"
   ]
  },
  {
   "cell_type": "code",
   "execution_count": null,
   "metadata": {},
   "outputs": [],
   "source": [
    "# 필요없는 열은 제거하고, 사용할 열만 가져옴\n",
    "ratings = ratings.drop('timestamp', axis = 1) \n",
    "movies = movies[['movie_id', 'title']]"
   ]
  },
  {
   "cell_type": "code",
   "execution_count": null,
   "metadata": {},
   "outputs": [],
   "source": [
    "# train/test 분리\n",
    "from sklearn.model_selection import train_test_split\n",
    "\n",
    "x = ratings.copy()\n",
    "y = ratings['user_id']\n",
    "\n",
    "x_train, x_test, y_train, y_test = train_test_split(x, y, test_size = 0.25, stratify = y)"
   ]
  },
  {
   "cell_type": "code",
   "execution_count": null,
   "metadata": {},
   "outputs": [],
   "source": [
    "# 지표 정의\n",
    "import numpy as np\n",
    "\n",
    "def RMSE(y_true, y_pred):\n",
    "    return np.sqrt(np.mean((np.array(y_true) - np.array(y_pred)) ** 2))\n",
    "\n",
    "# y_pred는 x_train으로 얻어진 matrix에서 계산한 rating이고,\n",
    "# y_true는 실제 데이터에서 유저가 특정 영화를 평가한 rating이다.\n",
    "def score(model):\n",
    "    id_pairs = zip(x_test['user_id'], x_test['movie_id'])\n",
    "    y_pred = np.array([model(user, movie) for (user, movie) in id_pairs])\n",
    "    y_true = np.array(x_test['rating'])\n",
    "    \n",
    "    return RMSE(y_true, y_pred)\n",
    "\n",
    "# 사용자/영화로 피봇 테이블을 생성\n",
    "rating_matrix = x_train.pivot(index = 'user_id', columns = 'movie_id', values = 'rating')"
   ]
  },
  {
   "cell_type": "code",
   "execution_count": null,
   "metadata": {},
   "outputs": [],
   "source": [
    "def best_seller(user_id, movie_id):\n",
    "    try:\n",
    "        rating = train_mean[movie_id]\n",
    "    except:\n",
    "        rating = 3.0\n",
    "    return rating\n",
    "\n",
    "train_mean = x_train.groupby(['movie_id'])['rating'].mean()\n",
    "score(best_seller)"
   ]
  },
  {
   "cell_type": "code",
   "execution_count": null,
   "metadata": {},
   "outputs": [],
   "source": [
    "merged_matrix = pd.merge(x_train, users)\n",
    "users = users.set_index('user_id')\n",
    "\n",
    "g_mean = merged_matrix[['movie_id', 'sex', 'rating']].groupby(['movie_id', 'sex'])['rating'].mean()"
   ]
  },
  {
   "cell_type": "code",
   "execution_count": null,
   "metadata": {},
   "outputs": [],
   "source": [
    "# Gender 기준 추천\n",
    "def cf_gender(user_id, movie_id):\n",
    "    if movie_id in rating_matrix:\n",
    "        gender = users.loc[user_id]['sex']\n",
    "        if gender in g_mean[movie_id]:\n",
    "            gender_rating = g_mean[movie_id][gender]\n",
    "        else:\n",
    "            gender_rating = 3.0\n",
    "            \n",
    "    else:\n",
    "        gender_rating = 3.0\n",
    "        \n",
    "    return gender_rating\n",
    "\n",
    "score(cf_gender)"
   ]
  },
  {
   "cell_type": "markdown",
   "metadata": {},
   "source": [
    "## 연습문제 2-1\n",
    "+ 직업별 영화 추천"
   ]
  },
  {
   "cell_type": "code",
   "execution_count": null,
   "metadata": {},
   "outputs": [],
   "source": [
    "occ_mean = merged_matrix[['movie_id', 'occupation', 'rating']].groupby(['movie_id', 'occupation'])['rating'].mean()\n",
    "\n",
    "def cf_occupation(user_id, movie_id):\n",
    "    if movie_id in rating_matrix:\n",
    "        occ = users.loc[user_id, :]['occupation']\n",
    "        if occ in occ_mean[movie_id]:\n",
    "            occ_rating = occ_mean[movie_id][occ]\n",
    "        else:\n",
    "            occ_rating = 3.0\n",
    "    else:\n",
    "        occ_rating = 3.0\n",
    "        \n",
    "    return occ_rating\n",
    "\n",
    "score(cf_occupation)"
   ]
  },
  {
   "cell_type": "markdown",
   "metadata": {},
   "source": [
    "## 연습문제 2-2\n",
    "+ 성별과 직업을 동시 고려한 영화 추천"
   ]
  },
  {
   "cell_type": "code",
   "execution_count": null,
   "metadata": {},
   "outputs": [],
   "source": [
    "scc_mean = merged_matrix[['movie_id', 'sex', 'occupation','rating']].groupby(['movie_id', 'sex', 'occupation'])['rating'].mean()\n",
    "\n",
    "def cf_scc(user_id, movie_id):\n",
    "    if movie_id in rating_matrix:\n",
    "        sex = users.loc[user_id, :]['sex']\n",
    "        occ = users.loc[user_id, :]['occupation']\n",
    "        if (sex in scc_mean[movie_id]) and (occ in scc_mean[movie_id][sex]):\n",
    "            scc_rating = scc_mean[movie_id][sex][occ]\n",
    "        else:\n",
    "            scc_rating = 3.0\n",
    "    else:\n",
    "        scc_rating = 3.0\n",
    "        \n",
    "    return scc_rating\n",
    "\n",
    "score(cf_scc)"
   ]
  }
 ],
 "metadata": {
  "kernelspec": {
   "display_name": "Python 3",
   "language": "python",
   "name": "python3"
  },
  "language_info": {
   "codemirror_mode": {
    "name": "ipython",
    "version": 3
   },
   "file_extension": ".py",
   "mimetype": "text/x-python",
   "name": "python",
   "nbconvert_exporter": "python",
   "pygments_lexer": "ipython3",
   "version": "3.7.3"
  }
 },
 "nbformat": 4,
 "nbformat_minor": 2
}
