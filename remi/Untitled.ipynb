{
 "cells": [
  {
   "cell_type": "code",
   "execution_count": 73,
   "metadata": {},
   "outputs": [],
   "source": [
    "import numpy as np\n",
    "import matplotlib.pyplot as plt\n",
    "import matplotlib.cm as cm"
   ]
  },
  {
   "cell_type": "code",
   "execution_count": 2,
   "metadata": {},
   "outputs": [],
   "source": [
    "import tensorflow as tf\n",
    "\n",
    "from tensorflow.keras.datasets import mnist"
   ]
  },
  {
   "cell_type": "code",
   "execution_count": 19,
   "metadata": {},
   "outputs": [],
   "source": [
    "(x_train, y_train), _ = mnist.load_data()"
   ]
  },
  {
   "cell_type": "code",
   "execution_count": 6,
   "metadata": {},
   "outputs": [],
   "source": [
    "x_train = x_train/255.\n",
    "x_train = x_train.reshape(-1, 28*28)"
   ]
  },
  {
   "cell_type": "code",
   "execution_count": 7,
   "metadata": {},
   "outputs": [],
   "source": [
    "from tensorflow.keras.utils import to_categorical\n",
    "\n",
    "y_train = to_categorical(y_train)"
   ]
  },
  {
   "cell_type": "code",
   "execution_count": 24,
   "metadata": {},
   "outputs": [],
   "source": [
    "from tensorflow.keras.layers import Dense, Conv2D, MaxPooling2D, GlobalAveragePooling2D\n",
    "from tensorflow.keras.models import Sequential\n",
    "\n",
    "import datetime"
   ]
  },
  {
   "cell_type": "code",
   "execution_count": 12,
   "metadata": {},
   "outputs": [
    {
     "name": "stdout",
     "output_type": "stream",
     "text": [
      "Epoch 1/10\n",
      "  1/938 [..............................] - ETA: 0s - loss: 2.3116 - acc: 0.1406WARNING:tensorflow:From C:\\Users\\jcy12\\Anaconda3\\lib\\site-packages\\tensorflow\\python\\ops\\summary_ops_v2.py:1277: stop (from tensorflow.python.eager.profiler) is deprecated and will be removed after 2020-07-01.\n",
      "Instructions for updating:\n",
      "use `tf.profiler.experimental.stop` instead.\n",
      "  2/938 [..............................] - ETA: 38s - loss: 2.3037 - acc: 0.1406WARNING:tensorflow:Callbacks method `on_train_batch_end` is slow compared to the batch time (batch time: 0.0060s vs `on_train_batch_end` time: 0.0772s). Check your callbacks.\n",
      "938/938 [==============================] - 3s 3ms/step - loss: 0.3496 - acc: 0.9020\n",
      "Epoch 2/10\n",
      "938/938 [==============================] - 3s 3ms/step - loss: 0.1554 - acc: 0.9546\n",
      "Epoch 3/10\n",
      "938/938 [==============================] - 3s 3ms/step - loss: 0.1132 - acc: 0.9666\n",
      "Epoch 4/10\n",
      "938/938 [==============================] - 3s 3ms/step - loss: 0.0887 - acc: 0.9731\n",
      "Epoch 5/10\n",
      "938/938 [==============================] - 3s 3ms/step - loss: 0.0736 - acc: 0.9773\n",
      "Epoch 6/10\n",
      "938/938 [==============================] - 3s 3ms/step - loss: 0.0617 - acc: 0.9808\n",
      "Epoch 7/10\n",
      "938/938 [==============================] - 2s 2ms/step - loss: 0.0536 - acc: 0.9832\n",
      "Epoch 8/10\n",
      "938/938 [==============================] - 3s 3ms/step - loss: 0.0459 - acc: 0.9857\n",
      "Epoch 9/10\n",
      "938/938 [==============================] - 2s 3ms/step - loss: 0.0394 - acc: 0.9874\n",
      "Epoch 10/10\n",
      "938/938 [==============================] - 2s 2ms/step - loss: 0.0339 - acc: 0.9892\n"
     ]
    },
    {
     "data": {
      "text/plain": [
       "<tensorflow.python.keras.callbacks.History at 0x1e9434b68d0>"
      ]
     },
     "execution_count": 12,
     "metadata": {},
     "output_type": "execute_result"
    }
   ],
   "source": [
    "model = Sequential([\n",
    "    Dense(64, activation = 'relu'),\n",
    "    Dense(32, activation = 'relu'),\n",
    "    Dense(10, activation = 'softmax')\n",
    "])\n",
    "\n",
    "model.compile(loss = 'categorical_crossentropy',\n",
    "             optimizer = tf.keras.optimizers.Adam(),\n",
    "             metrics = 'acc')\n",
    "\n",
    "log_dir = \"logs/fit/\" + datetime.datetime.now().strftime(\"%Y%m%d-%H%M%S\")\n",
    "tensorboard_callback = tf.keras.callbacks.TensorBoard(log_dir=log_dir, histogram_freq=1)\n",
    "\n",
    "model.fit(x_train, y_train, batch_size = 64, epochs = 10\n",
    "         , callbacks = [tensorboard_callback])"
   ]
  },
  {
   "cell_type": "code",
   "execution_count": 14,
   "metadata": {},
   "outputs": [],
   "source": [
    "%load_ext tensorboard"
   ]
  },
  {
   "cell_type": "code",
   "execution_count": 16,
   "metadata": {
    "scrolled": true
   },
   "outputs": [
    {
     "data": {
      "text/plain": [
       "Reusing TensorBoard on port 6006 (pid 26640), started 0:01:05 ago. (Use '!kill 26640' to kill it.)"
      ]
     },
     "metadata": {},
     "output_type": "display_data"
    },
    {
     "data": {
      "text/html": [
       "\n",
       "      <iframe id=\"tensorboard-frame-34f4a374bf34b635\" width=\"100%\" height=\"800\" frameborder=\"0\">\n",
       "      </iframe>\n",
       "      <script>\n",
       "        (function() {\n",
       "          const frame = document.getElementById(\"tensorboard-frame-34f4a374bf34b635\");\n",
       "          const url = new URL(\"/\", window.location);\n",
       "          const port = 6006;\n",
       "          if (port) {\n",
       "            url.port = port;\n",
       "          }\n",
       "          frame.src = url;\n",
       "        })();\n",
       "      </script>\n",
       "    "
      ],
      "text/plain": [
       "<IPython.core.display.HTML object>"
      ]
     },
     "metadata": {},
     "output_type": "display_data"
    }
   ],
   "source": [
    "%tensorboard --logdir logs/fit"
   ]
  },
  {
   "cell_type": "code",
   "execution_count": 69,
   "metadata": {},
   "outputs": [],
   "source": [
    "(x_train, y_train), (x_test, y_test) = mnist.load_data()\n",
    "\n",
    "x_train = x_train/255.\n",
    "x_test = x_test/255.\n",
    "x_train = x_train.reshape(-1, 28, 28, 1)\n",
    "x_test = x_test.reshape(-1, 28, 28, 1)\n",
    "y_train = to_categorical(y_train)"
   ]
  },
  {
   "cell_type": "code",
   "execution_count": 63,
   "metadata": {},
   "outputs": [
    {
     "name": "stdout",
     "output_type": "stream",
     "text": [
      "Epoch 1/10\n",
      "938/938 [==============================] - 7s 7ms/step - loss: 1.3491 - acc: 0.5306\n",
      "Epoch 2/10\n",
      "938/938 [==============================] - 7s 7ms/step - loss: 0.6588 - acc: 0.7950A: \n",
      "Epoch 3/10\n",
      "938/938 [==============================] - 7s 8ms/step - loss: 0.4495 - acc: 0.8636\n",
      "Epoch 4/10\n",
      "938/938 [==============================] - 7s 7ms/step - loss: 0.3472 - acc: 0.8959\n",
      "Epoch 5/10\n",
      "938/938 [==============================] - 7s 7ms/step - loss: 0.2872 - acc: 0.9135\n",
      "Epoch 6/10\n",
      "938/938 [==============================] - 8s 8ms/step - loss: 0.2526 - acc: 0.9237\n",
      "Epoch 7/10\n",
      "938/938 [==============================] - 7s 7ms/step - loss: 0.2289 - acc: 0.9299\n",
      "Epoch 8/10\n",
      "938/938 [==============================] - 7s 8ms/step - loss: 0.2114 - acc: 0.9349\n",
      "Epoch 9/10\n",
      "938/938 [==============================] - 7s 7ms/step - loss: 0.1959 - acc: 0.9396\n",
      "Epoch 10/10\n",
      "938/938 [==============================] - 9s 10ms/step - loss: 0.1843 - acc: 0.9431\n"
     ]
    },
    {
     "data": {
      "text/plain": [
       "<tensorflow.python.keras.callbacks.History at 0x1e91fb4b828>"
      ]
     },
     "execution_count": 63,
     "metadata": {},
     "output_type": "execute_result"
    }
   ],
   "source": [
    "model = Sequential([\n",
    "    Conv2D(64, 3, padding = 'same', activation = 'relu'),\n",
    "    MaxPooling2D((2, 2)),\n",
    "    Conv2D(32, 3, padding = 'same', activation = 'relu', name = 'last_conv'),\n",
    "    MaxPooling2D((2, 2)),\n",
    "    GlobalAveragePooling2D(name = 'gap'),\n",
    "    Dense(64, activation = 'relu', name = 'bridge'),\n",
    "    Dense(10, activation = 'softmax', name = 'prediction')\n",
    "])\n",
    "\n",
    "model.compile(loss = 'categorical_crossentropy',\n",
    "             optimizer = tf.keras.optimizers.Adam(),\n",
    "             metrics = 'acc')\n",
    "\n",
    "model.fit(x_train, y_train, batch_size = 64, epochs = 10)"
   ]
  },
  {
   "cell_type": "code",
   "execution_count": 65,
   "metadata": {},
   "outputs": [
    {
     "name": "stdout",
     "output_type": "stream",
     "text": [
      "Model: \"sequential_6\"\n",
      "_________________________________________________________________\n",
      "Layer (type)                 Output Shape              Param #   \n",
      "=================================================================\n",
      "conv2d_7 (Conv2D)            (None, 28, 28, 64)        640       \n",
      "_________________________________________________________________\n",
      "max_pooling2d_8 (MaxPooling2 (None, 14, 14, 64)        0         \n",
      "_________________________________________________________________\n",
      "last_conv (Conv2D)           (None, 14, 14, 32)        18464     \n",
      "_________________________________________________________________\n",
      "max_pooling2d_9 (MaxPooling2 (None, 7, 7, 32)          0         \n",
      "_________________________________________________________________\n",
      "gap (GlobalAveragePooling2D) (None, 32)                0         \n",
      "_________________________________________________________________\n",
      "bridge (Dense)               (None, 64)                2112      \n",
      "_________________________________________________________________\n",
      "prediction (Dense)           (None, 10)                650       \n",
      "=================================================================\n",
      "Total params: 21,866\n",
      "Trainable params: 21,866\n",
      "Non-trainable params: 0\n",
      "_________________________________________________________________\n"
     ]
    }
   ],
   "source": [
    "model.summary()"
   ]
  },
  {
   "cell_type": "code",
   "execution_count": 64,
   "metadata": {},
   "outputs": [],
   "source": [
    "classifier_layer_names = [\"gap\", \"bridge\", \"prediction\"]\n",
    "last_conv_layer_name = \"last_conv\""
   ]
  },
  {
   "cell_type": "code",
   "execution_count": 103,
   "metadata": {},
   "outputs": [],
   "source": [
    "def make_gradcam_heatmap(img_array, model, last_conv_layer_name, classifier_layer_names):\n",
    "    last_conv_layer = model.get_layer(last_conv_layer_name)\n",
    "    last_conv_layer_model = tf.keras.Model(model.inputs, last_conv_layer.output)\n",
    "\n",
    "    classifier_input = tf.keras.Input(shape = last_conv_layer.output.shape[1:])\n",
    "    x = classifier_input\n",
    "    \n",
    "    for layer_name in classifier_layer_names:\n",
    "        x = model.get_layer(layer_name)(x)\n",
    "    classifier_model = tf.keras.Model(classifier_input, x)\n",
    "    \n",
    "    with tf.GradientTape() as tape:\n",
    "        last_conv_layer_output = last_conv_layer_model(img_array)\n",
    "        tape.watch(last_conv_layer_output)\n",
    "        \n",
    "        preds = classifier_model(last_conv_layer_output)\n",
    "        top_pred_index = tf.argmax(preds[0])\n",
    "        top_class_channel = preds[:, top_pred_index]\n",
    "        \n",
    "    grads = tape.gradient(top_class_channel, last_conv_layer_output)\n",
    "    \n",
    "    pooled_grads = tf.reduce_mean(grads, axis = (0, 1, 2))\n",
    "    \n",
    "    last_conv_layer_output = last_conv_layer_output.numpy()[0]\n",
    "    pooled_grads = pooled_grads.numpy()\n",
    "    for i in range(pooled_grads.shape[-1]):\n",
    "        last_conv_layer_output[:, :, i] *= pooled_grads[i]\n",
    "        \n",
    "    heatmap = np.mean(last_conv_layer_output, axis = -1)\n",
    "    \n",
    "    heatmap = np.maximum(heatmap, 0) / np.max(heatmap)\n",
    "    \n",
    "    return heatmap\n",
    "\n",
    "heatmap = make_gradcam_heatmap(a, model, last_conv_layer_name, classifier_layer_names)\n",
    "\n",
    "img = np.uint8(255 * x_test[0])\n",
    "\n",
    "heatmap = np.uint8(255 * heatmap)\n",
    "\n",
    "jet = cm.get_cmap(\"jet\")\n",
    "\n",
    "jet_colors = jet(np.arange(256))[:, :3]\n",
    "jet_heatmap = jet_colors[heatmap]\n",
    "\n",
    "jet_heatmap = tf.keras.preprocessing.image.array_to_img(jet_heatmap)\n",
    "jet_heatmap = jet_heatmap.resize((img.shape[1], img.shape[0]))\n",
    "jet_heatmap = tf.keras.preprocessing.image.img_to_array(jet_heatmap)\n",
    "\n",
    "superimposed_img = jet_heatmap * 0.5 + img\n",
    "superimposed_img = tf.keras.preprocessing.image.array_to_img(superimposed_img)"
   ]
  },
  {
   "cell_type": "code",
   "execution_count": 120,
   "metadata": {},
   "outputs": [
    {
     "data": {
      "image/png": "[encoded data removed]",
      "text/plain": [
       "<Figure size 720x720 with 3 Axes>"
      ]
     },
     "metadata": {},
     "output_type": "display_data"
    }
   ],
   "source": [
    "plt.figure(figsize=(10, 10))\n",
    "\n",
    "plt.subplot(131)\n",
    "plt.imshow(x_test[0][:, :, 0])\n",
    "plt.title('original')\n",
    "plt.xticks([]); plt.yticks([])\n",
    "\n",
    "plt.subplot(132)\n",
    "plt.imshow(heatmap)\n",
    "plt.title('heatmap')\n",
    "plt.xticks([]); plt.yticks([])\n",
    "\n",
    "plt.subplot(133)\n",
    "plt.title('original + heatmap')\n",
    "plt.imshow(superimposed_img)\n",
    "\n",
    "plt.xticks([]); plt.yticks([])\n",
    "plt.show()"
   ]
  },
  {
   "cell_type": "code",
   "execution_count": null,
   "metadata": {},
   "outputs": [],
   "source": []
  }
 ],
 "metadata": {
  "kernelspec": {
   "display_name": "keras_study",
   "language": "python",
   "name": "keras_study"
  },
  "language_info": {
   "codemirror_mode": {
    "name": "ipython",
    "version": 3
   },
   "file_extension": ".py",
   "mimetype": "text/x-python",
   "name": "python",
   "nbconvert_exporter": "python",
   "pygments_lexer": "ipython3",
   "version": "3.7.3"
  }
 },
 "nbformat": 4,
 "nbformat_minor": 2
}
